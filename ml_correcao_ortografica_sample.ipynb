{
  "nbformat": 4,
  "nbformat_minor": 0,
  "metadata": {
    "colab": {
      "provenance": [],
      "authorship_tag": "ABX9TyMjHxEmhI09ofsCwx2DoATG",
      "include_colab_link": true
    },
    "kernelspec": {
      "name": "python3",
      "display_name": "Python 3"
    },
    "language_info": {
      "name": "python"
    }
  },
  "cells": [
    {
      "cell_type": "markdown",
      "metadata": {
        "id": "view-in-github",
        "colab_type": "text"
      },
      "source": [
        "<a href=\"https://colab.research.google.com/github/palis-dev/jupyter-notebooks/blob/main/ml_correcao_ortografica_sample.ipynb\" target=\"_parent\"><img src=\"https://colab.research.google.com/assets/colab-badge.svg\" alt=\"Open In Colab\"/></a>"
      ]
    },
    {
      "cell_type": "code",
      "source": [
        "!pip install Levenshtein"
      ],
      "metadata": {
        "id": "tYi_bQY5zXPq"
      },
      "execution_count": null,
      "outputs": []
    },
    {
      "cell_type": "code",
      "source": [
        "import Levenshtein"
      ],
      "metadata": {
        "id": "fNNQvIYvzVFo"
      },
      "execution_count": null,
      "outputs": []
    },
    {
      "cell_type": "code",
      "source": [
        "distance = Levenshtein.distance(\"exmplo\", \"exemplo\")\n",
        "distance"
      ],
      "metadata": {
        "colab": {
          "base_uri": "https://localhost:8080/"
        },
        "id": "kHXzPPJswrej",
        "outputId": "3fa70ea5-7005-44c6-e3b4-22c0396a9086"
      },
      "execution_count": null,
      "outputs": [
        {
          "output_type": "execute_result",
          "data": {
            "text/plain": [
              "1"
            ]
          },
          "metadata": {},
          "execution_count": 17
        }
      ]
    },
    {
      "cell_type": "code",
      "source": [
        "def correct_sentence(sentence, dictionary):\n",
        "\n",
        "    words = sentence.split()\n",
        "    corrected_words = []\n",
        "\n",
        "    for word in words:\n",
        "        if word.lower() in dictionary:\n",
        "            corrected_words.append(word)\n",
        "        else:\n",
        "            min_distance = float('inf')\n",
        "            candidate = word\n",
        "            for correct_word in dictionary:\n",
        "                distance = Levenshtein.distance(word.lower(), correct_word)\n",
        "                if distance < min_distance:\n",
        "                    min_distance = distance\n",
        "                    candidate = correct_word\n",
        "            corrected_words.append(candidate)\n",
        "\n",
        "    return \" \".join(corrected_words)"
      ],
      "metadata": {
        "id": "hR4qelxszU90"
      },
      "execution_count": null,
      "outputs": []
    },
    {
      "cell_type": "code",
      "source": [
        "dictionary = [\n",
        "        \"exemplo\", \"de\", \"frase\", \"com\", \"erros\", \"escrita\",\n",
        "        \"palavra\", \"computador\", \"programa\", \"python\",\n",
        "        \"linguagem\", \"codigo\", \"correção\"\n",
        "    ]"
      ],
      "metadata": {
        "id": "uGsKlEi2zUyu"
      },
      "execution_count": null,
      "outputs": []
    },
    {
      "cell_type": "code",
      "source": [
        "erroneous_sentence = \"exmplo de fraze com erros de escrva\"\n",
        "\n",
        "corrected_sentence = correct_sentence(erroneous_sentence, dictionary)\n",
        "\n",
        "print(\"Original Sentence: \", erroneous_sentence)\n",
        "print(\"Corrected Sentence:\", corrected_sentence)"
      ],
      "metadata": {
        "colab": {
          "base_uri": "https://localhost:8080/"
        },
        "id": "5TwktjWbz_yI",
        "outputId": "845ac202-8d09-44a9-8aae-cdd99e2e4e55"
      },
      "execution_count": null,
      "outputs": [
        {
          "output_type": "stream",
          "name": "stdout",
          "text": [
            "Original Sentence:  exmplo de fraze com erros de escrva\n",
            "Corrected Sentence: exemplo de frase com erros de escrita\n"
          ]
        }
      ]
    },
    {
      "cell_type": "code",
      "source": [],
      "metadata": {
        "id": "Z_HM9Mn-7VH9"
      },
      "execution_count": null,
      "outputs": []
    }
  ]
}