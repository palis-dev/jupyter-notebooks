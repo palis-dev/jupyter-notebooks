{
  "nbformat": 4,
  "nbformat_minor": 0,
  "metadata": {
    "colab": {
      "provenance": [],
      "toc_visible": true,
      "authorship_tag": "ABX9TyPWUYs1qLYe95D7X3jvNnGs",
      "include_colab_link": true
    },
    "kernelspec": {
      "name": "python3",
      "display_name": "Python 3"
    },
    "language_info": {
      "name": "python"
    }
  },
  "cells": [
    {
      "cell_type": "markdown",
      "metadata": {
        "id": "view-in-github",
        "colab_type": "text"
      },
      "source": [
        "<a href=\"https://colab.research.google.com/github/palis-dev/jupyter-notebooks/blob/main/ml_kmeans_senioridade.ipynb\" target=\"_parent\"><img src=\"https://colab.research.google.com/assets/colab-badge.svg\" alt=\"Open In Colab\"/></a>"
      ]
    },
    {
      "cell_type": "code",
      "source": [
        "import numpy as np\n",
        "import pandas as pd\n",
        "import matplotlib.pyplot as plt\n",
        "import plotly.express as px\n",
        "\n",
        "from sklearn.datasets import make_classification\n",
        "from sklearn.model_selection import train_test_split\n",
        "from sklearn.preprocessing import StandardScaler\n",
        "from sklearn.cluster import KMeans\n",
        "from sklearn.metrics import adjusted_rand_score\n"
      ],
      "metadata": {
        "id": "tzuPOYOZO4eW"
      },
      "execution_count": null,
      "outputs": []
    },
    {
      "cell_type": "code",
      "source": [
        "num_classes = 3\n",
        "class_names = ['Junior', 'Pleno', 'Sênior']\n",
        "\n",
        "X, y = make_classification(n_samples=500,\n",
        "                           n_features=3,\n",
        "                           n_informative=3,\n",
        "                           n_redundant=0,\n",
        "                           n_clusters_per_class=1,\n",
        "                           n_classes=num_classes,\n",
        "                           random_state=42)\n",
        "\n",
        "X = X - X.min(axis=0) + 1\n",
        "escala = 10\n",
        "X = np.round(X * escala).astype(int)\n",
        "offset_pleno = 20\n",
        "offset_senior = 40\n",
        "X[y == 1, 1:3] += offset_pleno\n",
        "X[y == 2, 1:3] += offset_senior\n",
        "\n",
        "intervalos = {\n",
        "    0: (1, 7),\n",
        "    1: (8, 14),\n",
        "    2: (15, 20)\n",
        "}\n",
        "\n",
        "X_final = X.copy()\n"
      ],
      "metadata": {
        "id": "R2dtUHzwO4Hc"
      },
      "execution_count": 2,
      "outputs": []
    },
    {
      "cell_type": "code",
      "execution_count": 3,
      "metadata": {
        "colab": {
          "base_uri": "https://localhost:8080/",
          "height": 785
        },
        "id": "Q0m1xp17OiLn",
        "outputId": "1a534bf7-be77-4f9b-b918-666eb969d6af"
      },
      "outputs": [
        {
          "output_type": "stream",
          "name": "stdout",
          "text": [
            "Adjusted Rand Index (Treino): 0.8350\n",
            "Adjusted Rand Index (Teste): 0.8349\n"
          ]
        },
        {
          "output_type": "display_data",
          "data": {
            "text/html": [
              "<html>\n",
              "<head><meta charset=\"utf-8\" /></head>\n",
              "<body>\n",
              "    <div>            <script src=\"https://cdnjs.cloudflare.com/ajax/libs/mathjax/2.7.5/MathJax.js?config=TeX-AMS-MML_SVG\"></script><script type=\"text/javascript\">if (window.MathJax && window.MathJax.Hub && window.MathJax.Hub.Config) {window.MathJax.Hub.Config({SVG: {font: \"STIX-Web\"}});}</script>                <script type=\"text/javascript\">window.PlotlyConfig = {MathJaxConfig: 'local'};</script>\n",
              "        <script charset=\"utf-8\" src=\"https://cdn.plot.ly/plotly-2.35.2.min.js\"></script>                <div id=\"ab3fe2b3-3aa9-4dcb-bad8-5439383f4b38\" class=\"plotly-graph-div\" style=\"height:525px; width:100%;\"></div>            <script type=\"text/javascript\">                                    window.PLOTLYENV=window.PLOTLYENV || {};                                    if (document.getElementById(\"ab3fe2b3-3aa9-4dcb-bad8-5439383f4b38\")) {                    Plotly.newPlot(                        \"ab3fe2b3-3aa9-4dcb-bad8-5439383f4b38\",                        [{\"hovertemplate\":\"Classe Real=Pleno\\u003cbr\\u003eCommits no Ano=%{x}\\u003cbr\\u003eTempo de Carreira=%{y}\\u003cbr\\u003eTasks Finalizadas=%{z}\\u003cbr\\u003eCluster=%{marker.color}\\u003cextra\\u003e\\u003c\\u002fextra\\u003e\",\"legendgroup\":\"Pleno\",\"marker\":{\"color\":[1,1,1,1,1,1,1,1,1,1,1,1,1,1,1,1,1,1,1,1,1,1,1,1,1,1,1,1,1,1,1,1,1,1,1,1,1,1,1,1,1,1,1,1,1,1,1,1,1,1,1,1,2,1,1,1,1,1,1,1,1,1,1,1,1,1,2,2,1,1,1,1,2,1,1,1,2,1,1,1,1,1,1,1,1,1,1,2,1,1,1,1,1,1,1,2,1,1,1,1,1,1,1,2,1,1,1,1,1,1,1,1,1,1,1,1,1,1,1,1,1,1,1,1,1,1,1,1,1,1,1,1,1,1],\"coloraxis\":\"coloraxis\",\"symbol\":\"circle\"},\"mode\":\"markers\",\"name\":\"Pleno\",\"scene\":\"scene\",\"showlegend\":true,\"x\":[64,58,44,63,64,51,52,49,53,54,71,61,67,68,57,48,57,73,67,48,50,52,48,88,53,48,39,69,46,65,59,69,64,59,57,60,88,48,64,74,59,50,53,49,50,56,52,45,68,52,56,53,31,59,47,48,71,54,51,58,65,55,41,61,59,49,36,39,72,63,77,63,21,60,42,57,37,46,68,42,52,63,74,62,58,78,80,37,65,72,56,42,49,77,54,40,51,49,73,56,65,70,47,31,63,79,63,68,61,68,60,57,58,57,60,46,52,74,53,60,60,61,61,71,47,56,62,67,68,50,86,63,57,50],\"y\":[12,11,9,12,12,11,10,11,13,12,14,12,12,12,11,10,11,12,13,10,10,11,11,14,11,11,8,13,9,12,11,11,12,11,11,13,14,11,12,12,10,11,11,12,11,11,10,10,12,12,11,12,9,12,11,11,11,11,11,11,13,11,10,12,13,11,9,10,12,13,13,12,9,10,10,12,10,12,13,10,11,14,13,12,12,12,14,10,12,12,11,10,10,12,13,10,10,11,14,10,12,12,11,9,12,13,12,13,11,11,12,11,11,11,13,11,10,12,11,11,11,12,11,12,11,12,12,13,13,9,13,12,11,10],\"z\":[76,93,72,78,84,80,69,85,85,89,102,82,70,76,71,79,75,73,94,73,77,74,88,86,80,82,70,94,79,81,79,72,88,76,73,83,90,81,82,81,65,71,81,83,83,71,76,84,76,88,73,91,76,82,83,88,66,82,77,85,81,79,67,82,79,74,63,61,67,87,80,87,81,69,74,98,85,84,85,79,87,86,81,83,91,74,92,77,80,76,95,79,72,78,88,81,76,80,80,73,74,91,71,70,95,83,80,87,92,75,78,81,79,88,98,80,79,76,74,63,76,84,83,75,70,82,76,84,86,64,66,85,74,61],\"type\":\"scatter3d\"},{\"hovertemplate\":\"Classe Real=Sênior\\u003cbr\\u003eCommits no Ano=%{x}\\u003cbr\\u003eTempo de Carreira=%{y}\\u003cbr\\u003eTasks Finalizadas=%{z}\\u003cbr\\u003eCluster=%{marker.color}\\u003cextra\\u003e\\u003c\\u002fextra\\u003e\",\"legendgroup\":\"Sênior\",\"marker\":{\"color\":[1,2,2,2,2,2,2,2,2,2,2,2,2,2,2,2,1,2,2,2,2,2,1,2,2,2,2,2,2,1,1,2,2,2,2,2,2,2,2,2,2,2,2,2,1,2,2,2,2,2,1,2,2,2,2,2,2,2,2,2,2,2,2,2,2,2,2,2,2,2,2,2,1,1,2,2,2,2,2,2,2,2,2,2,2,2,2,2,2,2,2,1,1,2,2,2,2,2,2,2,2,2,2,2,2,2,2,2,2,2,2,2,2,2,2,2,2,1,2,2,2,1,2,2,1,1,2,2,2,2,2],\"coloraxis\":\"coloraxis\",\"symbol\":\"diamond\"},\"mode\":\"markers\",\"name\":\"Sênior\",\"scene\":\"scene\",\"showlegend\":true,\"x\":[49,41,38,44,22,43,32,36,23,27,25,45,28,37,33,42,49,26,36,21,32,23,59,30,30,47,35,29,24,53,59,40,38,38,23,31,18,26,27,40,45,35,36,37,49,41,48,34,31,35,54,29,32,29,42,12,40,46,40,34,42,36,23,31,31,24,13,43,41,29,31,35,55,49,40,39,38,42,26,50,36,34,41,26,43,36,22,32,43,28,29,62,50,32,37,45,39,34,24,32,46,44,48,39,29,40,32,21,43,39,28,38,38,33,32,33,34,52,19,44,37,52,38,23,53,51,36,30,34,48,31],\"y\":[15,17,18,17,18,16,17,18,18,18,19,17,17,17,18,18,15,18,17,19,17,17,16,19,18,17,18,18,18,17,16,17,18,17,19,18,19,18,19,17,17,18,16,16,16,17,17,18,18,18,15,19,18,17,16,20,17,17,18,17,17,18,19,18,18,18,18,16,17,19,18,16,16,15,17,17,17,17,18,18,18,17,16,18,18,18,18,17,17,18,19,15,17,18,18,17,18,17,18,17,17,17,17,17,18,18,18,18,17,18,18,17,17,18,19,18,17,16,18,17,17,15,17,18,16,17,18,18,17,16,16],\"z\":[80,79,74,75,84,80,79,78,82,83,81,74,82,78,78,77,81,82,80,82,80,84,76,77,82,75,78,76,84,74,73,81,75,81,83,82,85,86,78,78,79,79,84,82,79,78,73,75,79,78,79,78,80,81,80,84,82,77,73,82,78,78,81,81,81,82,88,79,80,77,80,82,76,79,78,80,77,78,83,71,76,81,82,82,74,78,87,79,78,82,78,76,71,80,80,78,74,83,84,81,77,79,75,81,82,73,81,82,80,78,80,81,82,80,74,79,80,77,83,75,83,81,80,82,76,74,79,81,79,81,88],\"type\":\"scatter3d\"},{\"hovertemplate\":\"Classe Real=Junior\\u003cbr\\u003eCommits no Ano=%{x}\\u003cbr\\u003eTempo de Carreira=%{y}\\u003cbr\\u003eTasks Finalizadas=%{z}\\u003cbr\\u003eCluster=%{marker.color}\\u003cextra\\u003e\\u003c\\u002fextra\\u003e\",\"legendgroup\":\"Junior\",\"marker\":{\"color\":[0,0,0,0,0,0,0,0,0,0,0,0,0,0,0,0,0,0,0,0,0,0,0,0,0,0,0,0,0,0,0,0,0,0,0,0,0,0,0,0,0,0,0,0,0,0,0,0,0,0,0,0,0,0,0,0,0,0,0,0,0,0,0,0,0,0,0,0,0,0,0,0,0,0,0,0,0,0,0,0,0,0,0,0,0,0,0,0,0,0,0,0,0,0,0,0,0,0,0,0,0,0,0,0,0,0,0,0,0,0,0,0,0,0,0,0,0,0,0,0,0,0,0,0,0,0,0,0,0,0,0,0,0,1,0],\"coloraxis\":\"coloraxis\",\"symbol\":\"square\"},\"mode\":\"markers\",\"name\":\"Junior\",\"scene\":\"scene\",\"showlegend\":true,\"x\":[58,27,64,44,55,65,54,59,76,53,40,60,63,56,62,58,54,60,54,60,66,60,63,60,48,59,48,52,51,52,53,63,50,51,65,53,50,67,55,54,60,48,53,56,59,54,45,71,48,51,57,66,51,48,50,55,55,57,58,53,69,53,60,66,54,54,58,65,63,56,49,56,52,62,60,62,56,51,58,55,68,56,51,53,62,55,60,68,61,58,54,53,55,55,53,45,55,55,50,65,57,52,61,64,55,49,64,68,51,54,55,55,60,62,60,51,70,65,56,49,66,72,57,53,58,56,48,48,44,52,51,61,72,78,45],\"y\":[4,4,5,4,5,4,4,3,4,4,4,4,1,4,3,6,1,6,3,2,4,4,3,4,4,3,5,4,5,3,4,4,3,4,4,3,3,5,4,4,5,5,5,4,4,5,3,4,4,4,3,4,4,4,2,4,2,3,7,3,5,4,4,4,4,4,2,6,4,4,4,5,4,3,4,4,6,3,4,4,6,4,3,3,4,4,3,1,3,5,4,5,5,4,2,4,4,5,5,5,2,3,3,2,3,5,3,3,3,4,5,3,5,4,4,4,4,3,4,4,4,4,6,4,4,4,4,4,3,5,5,2,4,6,4],\"z\":[41,41,40,56,48,35,41,33,17,47,64,37,13,43,31,55,27,50,36,25,29,37,24,40,54,33,56,47,58,37,46,37,42,47,36,38,44,40,43,45,49,57,54,44,61,52,50,23,54,46,32,32,50,49,33,43,29,32,61,39,35,48,35,31,47,47,29,44,37,44,50,47,50,28,35,38,59,42,37,46,39,41,41,39,33,41,31,10,30,44,41,52,48,46,31,51,43,52,57,40,26,40,26,21,39,56,28,23,41,41,50,40,42,39,37,48,29,24,45,50,29,24,56,47,36,39,51,50,53,54,52,25,21,71,55],\"type\":\"scatter3d\"}],                        {\"template\":{\"data\":{\"histogram2dcontour\":[{\"type\":\"histogram2dcontour\",\"colorbar\":{\"outlinewidth\":0,\"ticks\":\"\"},\"colorscale\":[[0.0,\"#0d0887\"],[0.1111111111111111,\"#46039f\"],[0.2222222222222222,\"#7201a8\"],[0.3333333333333333,\"#9c179e\"],[0.4444444444444444,\"#bd3786\"],[0.5555555555555556,\"#d8576b\"],[0.6666666666666666,\"#ed7953\"],[0.7777777777777778,\"#fb9f3a\"],[0.8888888888888888,\"#fdca26\"],[1.0,\"#f0f921\"]]}],\"choropleth\":[{\"type\":\"choropleth\",\"colorbar\":{\"outlinewidth\":0,\"ticks\":\"\"}}],\"histogram2d\":[{\"type\":\"histogram2d\",\"colorbar\":{\"outlinewidth\":0,\"ticks\":\"\"},\"colorscale\":[[0.0,\"#0d0887\"],[0.1111111111111111,\"#46039f\"],[0.2222222222222222,\"#7201a8\"],[0.3333333333333333,\"#9c179e\"],[0.4444444444444444,\"#bd3786\"],[0.5555555555555556,\"#d8576b\"],[0.6666666666666666,\"#ed7953\"],[0.7777777777777778,\"#fb9f3a\"],[0.8888888888888888,\"#fdca26\"],[1.0,\"#f0f921\"]]}],\"heatmap\":[{\"type\":\"heatmap\",\"colorbar\":{\"outlinewidth\":0,\"ticks\":\"\"},\"colorscale\":[[0.0,\"#0d0887\"],[0.1111111111111111,\"#46039f\"],[0.2222222222222222,\"#7201a8\"],[0.3333333333333333,\"#9c179e\"],[0.4444444444444444,\"#bd3786\"],[0.5555555555555556,\"#d8576b\"],[0.6666666666666666,\"#ed7953\"],[0.7777777777777778,\"#fb9f3a\"],[0.8888888888888888,\"#fdca26\"],[1.0,\"#f0f921\"]]}],\"heatmapgl\":[{\"type\":\"heatmapgl\",\"colorbar\":{\"outlinewidth\":0,\"ticks\":\"\"},\"colorscale\":[[0.0,\"#0d0887\"],[0.1111111111111111,\"#46039f\"],[0.2222222222222222,\"#7201a8\"],[0.3333333333333333,\"#9c179e\"],[0.4444444444444444,\"#bd3786\"],[0.5555555555555556,\"#d8576b\"],[0.6666666666666666,\"#ed7953\"],[0.7777777777777778,\"#fb9f3a\"],[0.8888888888888888,\"#fdca26\"],[1.0,\"#f0f921\"]]}],\"contourcarpet\":[{\"type\":\"contourcarpet\",\"colorbar\":{\"outlinewidth\":0,\"ticks\":\"\"}}],\"contour\":[{\"type\":\"contour\",\"colorbar\":{\"outlinewidth\":0,\"ticks\":\"\"},\"colorscale\":[[0.0,\"#0d0887\"],[0.1111111111111111,\"#46039f\"],[0.2222222222222222,\"#7201a8\"],[0.3333333333333333,\"#9c179e\"],[0.4444444444444444,\"#bd3786\"],[0.5555555555555556,\"#d8576b\"],[0.6666666666666666,\"#ed7953\"],[0.7777777777777778,\"#fb9f3a\"],[0.8888888888888888,\"#fdca26\"],[1.0,\"#f0f921\"]]}],\"surface\":[{\"type\":\"surface\",\"colorbar\":{\"outlinewidth\":0,\"ticks\":\"\"},\"colorscale\":[[0.0,\"#0d0887\"],[0.1111111111111111,\"#46039f\"],[0.2222222222222222,\"#7201a8\"],[0.3333333333333333,\"#9c179e\"],[0.4444444444444444,\"#bd3786\"],[0.5555555555555556,\"#d8576b\"],[0.6666666666666666,\"#ed7953\"],[0.7777777777777778,\"#fb9f3a\"],[0.8888888888888888,\"#fdca26\"],[1.0,\"#f0f921\"]]}],\"mesh3d\":[{\"type\":\"mesh3d\",\"colorbar\":{\"outlinewidth\":0,\"ticks\":\"\"}}],\"scatter\":[{\"fillpattern\":{\"fillmode\":\"overlay\",\"size\":10,\"solidity\":0.2},\"type\":\"scatter\"}],\"parcoords\":[{\"type\":\"parcoords\",\"line\":{\"colorbar\":{\"outlinewidth\":0,\"ticks\":\"\"}}}],\"scatterpolargl\":[{\"type\":\"scatterpolargl\",\"marker\":{\"colorbar\":{\"outlinewidth\":0,\"ticks\":\"\"}}}],\"bar\":[{\"error_x\":{\"color\":\"#2a3f5f\"},\"error_y\":{\"color\":\"#2a3f5f\"},\"marker\":{\"line\":{\"color\":\"#E5ECF6\",\"width\":0.5},\"pattern\":{\"fillmode\":\"overlay\",\"size\":10,\"solidity\":0.2}},\"type\":\"bar\"}],\"scattergeo\":[{\"type\":\"scattergeo\",\"marker\":{\"colorbar\":{\"outlinewidth\":0,\"ticks\":\"\"}}}],\"scatterpolar\":[{\"type\":\"scatterpolar\",\"marker\":{\"colorbar\":{\"outlinewidth\":0,\"ticks\":\"\"}}}],\"histogram\":[{\"marker\":{\"pattern\":{\"fillmode\":\"overlay\",\"size\":10,\"solidity\":0.2}},\"type\":\"histogram\"}],\"scattergl\":[{\"type\":\"scattergl\",\"marker\":{\"colorbar\":{\"outlinewidth\":0,\"ticks\":\"\"}}}],\"scatter3d\":[{\"type\":\"scatter3d\",\"line\":{\"colorbar\":{\"outlinewidth\":0,\"ticks\":\"\"}},\"marker\":{\"colorbar\":{\"outlinewidth\":0,\"ticks\":\"\"}}}],\"scattermapbox\":[{\"type\":\"scattermapbox\",\"marker\":{\"colorbar\":{\"outlinewidth\":0,\"ticks\":\"\"}}}],\"scatterternary\":[{\"type\":\"scatterternary\",\"marker\":{\"colorbar\":{\"outlinewidth\":0,\"ticks\":\"\"}}}],\"scattercarpet\":[{\"type\":\"scattercarpet\",\"marker\":{\"colorbar\":{\"outlinewidth\":0,\"ticks\":\"\"}}}],\"carpet\":[{\"aaxis\":{\"endlinecolor\":\"#2a3f5f\",\"gridcolor\":\"white\",\"linecolor\":\"white\",\"minorgridcolor\":\"white\",\"startlinecolor\":\"#2a3f5f\"},\"baxis\":{\"endlinecolor\":\"#2a3f5f\",\"gridcolor\":\"white\",\"linecolor\":\"white\",\"minorgridcolor\":\"white\",\"startlinecolor\":\"#2a3f5f\"},\"type\":\"carpet\"}],\"table\":[{\"cells\":{\"fill\":{\"color\":\"#EBF0F8\"},\"line\":{\"color\":\"white\"}},\"header\":{\"fill\":{\"color\":\"#C8D4E3\"},\"line\":{\"color\":\"white\"}},\"type\":\"table\"}],\"barpolar\":[{\"marker\":{\"line\":{\"color\":\"#E5ECF6\",\"width\":0.5},\"pattern\":{\"fillmode\":\"overlay\",\"size\":10,\"solidity\":0.2}},\"type\":\"barpolar\"}],\"pie\":[{\"automargin\":true,\"type\":\"pie\"}]},\"layout\":{\"autotypenumbers\":\"strict\",\"colorway\":[\"#636efa\",\"#EF553B\",\"#00cc96\",\"#ab63fa\",\"#FFA15A\",\"#19d3f3\",\"#FF6692\",\"#B6E880\",\"#FF97FF\",\"#FECB52\"],\"font\":{\"color\":\"#2a3f5f\"},\"hovermode\":\"closest\",\"hoverlabel\":{\"align\":\"left\"},\"paper_bgcolor\":\"white\",\"plot_bgcolor\":\"#E5ECF6\",\"polar\":{\"bgcolor\":\"#E5ECF6\",\"angularaxis\":{\"gridcolor\":\"white\",\"linecolor\":\"white\",\"ticks\":\"\"},\"radialaxis\":{\"gridcolor\":\"white\",\"linecolor\":\"white\",\"ticks\":\"\"}},\"ternary\":{\"bgcolor\":\"#E5ECF6\",\"aaxis\":{\"gridcolor\":\"white\",\"linecolor\":\"white\",\"ticks\":\"\"},\"baxis\":{\"gridcolor\":\"white\",\"linecolor\":\"white\",\"ticks\":\"\"},\"caxis\":{\"gridcolor\":\"white\",\"linecolor\":\"white\",\"ticks\":\"\"}},\"coloraxis\":{\"colorbar\":{\"outlinewidth\":0,\"ticks\":\"\"}},\"colorscale\":{\"sequential\":[[0.0,\"#0d0887\"],[0.1111111111111111,\"#46039f\"],[0.2222222222222222,\"#7201a8\"],[0.3333333333333333,\"#9c179e\"],[0.4444444444444444,\"#bd3786\"],[0.5555555555555556,\"#d8576b\"],[0.6666666666666666,\"#ed7953\"],[0.7777777777777778,\"#fb9f3a\"],[0.8888888888888888,\"#fdca26\"],[1.0,\"#f0f921\"]],\"sequentialminus\":[[0.0,\"#0d0887\"],[0.1111111111111111,\"#46039f\"],[0.2222222222222222,\"#7201a8\"],[0.3333333333333333,\"#9c179e\"],[0.4444444444444444,\"#bd3786\"],[0.5555555555555556,\"#d8576b\"],[0.6666666666666666,\"#ed7953\"],[0.7777777777777778,\"#fb9f3a\"],[0.8888888888888888,\"#fdca26\"],[1.0,\"#f0f921\"]],\"diverging\":[[0,\"#8e0152\"],[0.1,\"#c51b7d\"],[0.2,\"#de77ae\"],[0.3,\"#f1b6da\"],[0.4,\"#fde0ef\"],[0.5,\"#f7f7f7\"],[0.6,\"#e6f5d0\"],[0.7,\"#b8e186\"],[0.8,\"#7fbc41\"],[0.9,\"#4d9221\"],[1,\"#276419\"]]},\"xaxis\":{\"gridcolor\":\"white\",\"linecolor\":\"white\",\"ticks\":\"\",\"title\":{\"standoff\":15},\"zerolinecolor\":\"white\",\"automargin\":true,\"zerolinewidth\":2},\"yaxis\":{\"gridcolor\":\"white\",\"linecolor\":\"white\",\"ticks\":\"\",\"title\":{\"standoff\":15},\"zerolinecolor\":\"white\",\"automargin\":true,\"zerolinewidth\":2},\"scene\":{\"xaxis\":{\"backgroundcolor\":\"#E5ECF6\",\"gridcolor\":\"white\",\"linecolor\":\"white\",\"showbackground\":true,\"ticks\":\"\",\"zerolinecolor\":\"white\",\"gridwidth\":2},\"yaxis\":{\"backgroundcolor\":\"#E5ECF6\",\"gridcolor\":\"white\",\"linecolor\":\"white\",\"showbackground\":true,\"ticks\":\"\",\"zerolinecolor\":\"white\",\"gridwidth\":2},\"zaxis\":{\"backgroundcolor\":\"#E5ECF6\",\"gridcolor\":\"white\",\"linecolor\":\"white\",\"showbackground\":true,\"ticks\":\"\",\"zerolinecolor\":\"white\",\"gridwidth\":2}},\"shapedefaults\":{\"line\":{\"color\":\"#2a3f5f\"}},\"annotationdefaults\":{\"arrowcolor\":\"#2a3f5f\",\"arrowhead\":0,\"arrowwidth\":1},\"geo\":{\"bgcolor\":\"white\",\"landcolor\":\"#E5ECF6\",\"subunitcolor\":\"white\",\"showland\":true,\"showlakes\":true,\"lakecolor\":\"white\"},\"title\":{\"x\":0.05},\"mapbox\":{\"style\":\"light\"}}},\"scene\":{\"domain\":{\"x\":[0.0,1.0],\"y\":[0.0,1.0]},\"xaxis\":{\"title\":{\"text\":\"Commits no Ano\"}},\"yaxis\":{\"title\":{\"text\":\"Tempo de Carreira\"}},\"zaxis\":{\"title\":{\"text\":\"Tasks Finalizadas\"}}},\"coloraxis\":{\"colorbar\":{\"title\":{\"text\":\"Cluster\"}},\"colorscale\":[[0.0,\"#0d0887\"],[0.1111111111111111,\"#46039f\"],[0.2222222222222222,\"#7201a8\"],[0.3333333333333333,\"#9c179e\"],[0.4444444444444444,\"#bd3786\"],[0.5555555555555556,\"#d8576b\"],[0.6666666666666666,\"#ed7953\"],[0.7777777777777778,\"#fb9f3a\"],[0.8888888888888888,\"#fdca26\"],[1.0,\"#f0f921\"]]},\"legend\":{\"title\":{\"text\":\"Classe Real\"},\"tracegroupgap\":0},\"title\":{\"text\":\"Clustering com K-means nos Dados de Treino - 3D\"}},                        {\"responsive\": true}                    ).then(function(){\n",
              "                            \n",
              "var gd = document.getElementById('ab3fe2b3-3aa9-4dcb-bad8-5439383f4b38');\n",
              "var x = new MutationObserver(function (mutations, observer) {{\n",
              "        var display = window.getComputedStyle(gd).display;\n",
              "        if (!display || display === 'none') {{\n",
              "            console.log([gd, 'removed!']);\n",
              "            Plotly.purge(gd);\n",
              "            observer.disconnect();\n",
              "        }}\n",
              "}});\n",
              "\n",
              "// Listen for the removal of the full notebook cells\n",
              "var notebookContainer = gd.closest('#notebook-container');\n",
              "if (notebookContainer) {{\n",
              "    x.observe(notebookContainer, {childList: true});\n",
              "}}\n",
              "\n",
              "// Listen for the clearing of the current output cell\n",
              "var outputEl = gd.closest('.output');\n",
              "if (outputEl) {{\n",
              "    x.observe(outputEl, {childList: true});\n",
              "}}\n",
              "\n",
              "                        })                };                            </script>        </div>\n",
              "</body>\n",
              "</html>"
            ]
          },
          "metadata": {}
        },
        {
          "output_type": "stream",
          "name": "stdout",
          "text": [
            "\n",
            "Exemplos de clusters para amostras do teste:\n",
            "Amostra 0: Cluster Predito: 2, Classe Real: Sênior\n",
            "Amostra 1: Cluster Predito: 0, Classe Real: Junior\n",
            "Amostra 2: Cluster Predito: 1, Classe Real: Pleno\n",
            "Amostra 3: Cluster Predito: 1, Classe Real: Pleno\n",
            "Amostra 4: Cluster Predito: 0, Classe Real: Junior\n",
            "Amostra 5: Cluster Predito: 0, Classe Real: Junior\n",
            "Amostra 6: Cluster Predito: 0, Classe Real: Junior\n",
            "Amostra 7: Cluster Predito: 2, Classe Real: Sênior\n",
            "Amostra 8: Cluster Predito: 2, Classe Real: Sênior\n",
            "Amostra 9: Cluster Predito: 1, Classe Real: Pleno\n"
          ]
        }
      ],
      "source": [
        "for classe in range(num_classes):\n",
        "    low, high = intervalos[classe]\n",
        "    mask = (y == classe)\n",
        "    career = X[mask, 1].astype(float)\n",
        "    career_norm = (career - career.min()) / (career.max() - career.min() + 1e-6)\n",
        "    career_mapped = low + career_norm * (high - low)\n",
        "    X_final[mask, 1] = np.round(career_mapped).astype(int)\n",
        "\n",
        "X = X_final.copy()\n",
        "\n",
        "X_train_orig, X_test_orig, y_train, y_test = train_test_split(\n",
        "    X, y, test_size=0.2, random_state=42)\n",
        "\n",
        "scaler = StandardScaler()\n",
        "X_train = scaler.fit_transform(X_train_orig)\n",
        "X_test = scaler.transform(X_test_orig)\n",
        "\n",
        "\n",
        "kmeans_model = KMeans(n_clusters=num_classes, random_state=42)\n",
        "clusters_train = kmeans_model.fit_predict(X_train)\n",
        "\n",
        "ari_train = adjusted_rand_score(y_train, clusters_train)\n",
        "print(f\"Adjusted Rand Index (Treino): {ari_train:.4f}\")\n",
        "\n",
        "clusters_test = kmeans_model.predict(X_test)\n",
        "ari_test = adjusted_rand_score(y_test, clusters_test)\n",
        "print(f\"Adjusted Rand Index (Teste): {ari_test:.4f}\")\n",
        "\n",
        "df_train = pd.DataFrame(X_train_orig, columns=['Commits no Ano', 'Tempo de Carreira', 'Tasks Finalizadas'])\n",
        "df_train['Cluster'] = clusters_train\n",
        "df_train['Classe Real'] = [class_names[label] for label in y_train]\n",
        "\n",
        "fig = px.scatter_3d(df_train,\n",
        "                    x='Commits no Ano',\n",
        "                    y='Tempo de Carreira',\n",
        "                    z='Tasks Finalizadas',\n",
        "                    color='Cluster',\n",
        "                    symbol='Classe Real',\n",
        "                    title='Clustering com K-means nos Dados de Treino - 3D')\n",
        "fig.show()\n",
        "\n",
        "print(\"\\nExemplos de clusters para amostras do teste:\")\n",
        "for i in range(10):\n",
        "    print(f\"Amostra {i}: Cluster Predito: {clusters_test[i]}, Classe Real: {class_names[y_test[i]]}\")\n"
      ]
    },
    {
      "cell_type": "markdown",
      "source": [
        "# Nova seção"
      ],
      "metadata": {
        "id": "RLvLaQE_PHxl"
      }
    },
    {
      "cell_type": "code",
      "source": [],
      "metadata": {
        "id": "lHh45TjmO3Wx"
      },
      "execution_count": null,
      "outputs": []
    },
    {
      "cell_type": "code",
      "source": [],
      "metadata": {
        "id": "mncxGeraOmHn"
      },
      "execution_count": null,
      "outputs": []
    }
  ]
}